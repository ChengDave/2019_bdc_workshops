{
 "cells": [
  {
   "cell_type": "markdown",
   "metadata": {},
   "source": [
    "# Example 1 - Data Manipulation\n",
    "\n",
    "## Introductions\n",
    "\n",
    "Performing any in-depth analysis is challenging. So over the years our team has introduced different teaching styles to smoothen the learning curve. This series of notebooks will help guide your team through the fundamentals of data science and will show you a prime example of a winning analysis. We highly encourage everyone to read through the examples and complete the workshop.\n",
    "\n",
    "This year, we are going with a Wikipedia-style tutorial series where our tutorials for the week will be split into two different onebooks; one for the example analysis, and another for the workshops. Throughout the example, hyperlinks will connect the two workshops and will allow you to jump from notebook to notebook. These hyperlinks serve just like the ones on Wikipedia, they help round your knowledge if you come accross an unfamiliar concept in the examples. We found that students learnt best by supporting new concepts explained in the workshops with an actual example in an analysis.\n",
    "\n",
    "Nonetheless, go through the material in whatever order you like! Don't feel scared to complete the workshops then view the Examples. Remember to ask for help on Slack if we didn't do a good enough job at explaining!\n",
    "\n",
    "Best wishes,<br>\n",
    "The STEM Fellowship Data Science Team\n",
    "\n",
    "## Step 1 Looking At Data\n"
   ]
  },
  {
   "cell_type": "code",
   "execution_count": null,
   "metadata": {},
   "outputs": [],
   "source": []
  }
 ],
 "metadata": {
  "kernelspec": {
   "display_name": "Python 3",
   "language": "python",
   "name": "python3"
  },
  "language_info": {
   "codemirror_mode": {
    "name": "ipython",
    "version": 3
   },
   "file_extension": ".py",
   "mimetype": "text/x-python",
   "name": "python",
   "nbconvert_exporter": "python",
   "pygments_lexer": "ipython3",
   "version": "3.6.5"
  }
 },
 "nbformat": 4,
 "nbformat_minor": 2
}
