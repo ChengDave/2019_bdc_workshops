{
 "cells": [
  {
   "cell_type": "markdown",
   "metadata": {},
   "source": [
    "# Welcome to Workshop 3, Part 2 - Linear Regression\n",
    "<hr/>"
   ]
  },
  {
   "cell_type": "markdown",
   "metadata": {},
   "source": [
    "In our last workshop, we talked about taking some continuous data, such as features about houses, and clustering them into classes, such as neighborhoods. \n",
    "\n",
    "While these classes themselves can be represented continuously (by their centroids), the idea of classes is discrete. For example, if our features are _```square feet```_ and _```home value```_, when we examine our clusters, we may see that our _```downtown```_ centroid is $[850, 925 000]$. These are continuous values; however, we have a set number of clusters in total (K of them!), making our output discrete.\n",
    "\n",
    "Now, say we have some more continuous data, but we're looking for continuous output, as well. This is where you'll find linear regression to be useful.\n",
    "\n",
    "## Breaking down the words\n",
    "\n",
    "Just as \"K-Means Clustering\" sounded complicated, let's once again break down the terminology to understand the meaning of \"Linear Regression.\"\n",
    "\n",
    "### Linear\n",
    "\n",
    "All this means is that the relationship between our variables, when plotted, will be in the form of a straight(ish!) line. Think back to $y = mx + b$. Not only is that a great example of a linear relationship, it's actually the only thing we're calculating (more on that later). You may see a linear relationship between variables like \"time studied\" and \"course grade.\" \n",
    " \n",
    "This is in contrast to quadratic relationships $y = x^2$, which may be seen between variables such as the height of a thrown ball, and the time after which it was thrown. Linear relationships can also take the form of $y = x^3$, $y = x^5$, and so on, though we won't be covering that today.\n",
    "\n",
    "\n",
    "### Regression\n",
    "\n",
    "This may be a word you haven't seen before - and that's okay! Normally, in school, a (very, very basic) question would ask you, \n",
    "\n",
    ">_\"Given the equation $y = 3x - 5$, what is the value of y when x is 9?\"_\n",
    "\n",
    "However, we're going to flip this question around. Instead, we're now asking:\n",
    "\n",
    ">_\"Given this .csv full of x and y values, what is the equation for $y = mx + b?$\n",
    "\n",
    "The formal definition of regression, from a quick google search, is:\n",
    "\n",
    ">\"A return to a former or less developed state.\"\n",
    "\n",
    "When you think about it, we're converting our data from many x and y values, to a _less developed_ state; an equation! That's essentially all regression is.\n",
    "\n",
    "## How do I use it?\n",
    "\n",
    "Let's just get this out of the way now.\n",
    "\n",
    "$$ y = bx + a $$\n",
    "$$ $$\n",
    "$$ where... $$\n",
    "$$ $$\n",
    "$$ b = \\frac{n\\sum xy - (\\sum x\\sum y)}{n\\sum x^2 - (\\sum x)^2} $$\n",
    "$$ $$\n",
    "$$ and... $$\n",
    "$$ $$\n",
    "$$ a = \\hat y - b\\hat x $$\n",
    "\n",
    "Oof. That's ugly. There's a lot to go over here, so let's go step by step.\n",
    "\n",
    "### a and b?\n",
    "\n",
    "When calculating linear regression, convention is to use the form $y = bx + a$ rather than $y = mx + b$. Feel free to replace _a_ and $b$ with any of the other letters of the alphabet not in use in our equation, it's simply a placeholder. \n",
    "\n",
    "### What's wrong with that E? \n",
    "\n",
    "That's not a normal E; that's the Greek symbol Sigma, used to define _summation notation_. Aside from rhyming neatly, summation notation is useful because it lets us save a lot of time writing. Rather than writing $x_{0} + x_{1} + x_{2} ...$ and so on, we can simply use Sigma to instruct us to take the sum of all x values.  You can actually think of the Sigma like a for loop: ```for x in our data: total = total + x```\n",
    "\n",
    "### Why do those x and y's have hats?\n",
    "\n",
    "These hats, as they're commonly referred to, are used to denote taking an average.\n",
    "\n",
    "### Seriously, why does this even work?\n",
    "\n",
    "Asking \"why\" is always the right thing to do; it's always vital to understand what you're doing. However, an in-depth explanation of the linear regression formula involves some knowledge of calculus that we won't assume during these workshops. If you're interested in specifically what each term of the equation is doing, then I encourage you to check out [this PDF](http://coccweb.cocc.edu/srule/MTH244/other/LRJ.PDF) for a more involved explanation. For the purpose of not assuming everyone is fully proficient in calculus, though, we're going to stick to a more intuitive idea of why this formula works. \n",
    "\n",
    "#### The Line of Best Fit\n",
    "\n",
    "Let's go back to _y = mx + b_ for a moment, our core concept. All our equation of a line represents is a line of best fit; the line that can most effectively represent - or, **estimate** - our data. But how do we define \"representing our data?\" The standard heuristic is to try to divide all of our points so that half are on one side of the line, and half are on the other. Does that best represent our data?\n",
    "\n",
    "![lineofbestfit](http://www.bbc.co.uk/staticarchive/5932b02ab2c561a61cac4e6b45b23ba4b31be72b.gif)\n",
    "(BBC)\n",
    "\n",
    "Here we see some pretty linear data, and a line through it that looks like it pretty much divides our data evenly. How can we be sure, though, that this is best representing our data? What if we had some data whose line perfectly divided it in half, but one half was extremely close to the line, and one extremely far away? We need a mathematical way to understand \"best fit.\"\n",
    "\n",
    "#### Squared Error\n",
    "\n",
    "We can think about representing our data as the idea that our line should be as close as possible to every single point. How, though, do we represent the distance from our line to each point? Well, at each x value, we could simply subtract our data's y value from the y value of our line (our **estimate**). Or, mathematically:\n",
    "\n",
    ">Take the ordered pair $(4, 16)$ and the line of best fit as $f(x) = 3x+9$. Calculate the error. <br/>\n",
    ">$f(4) = 3(4) + 9 = 21$ <br/>\n",
    ">$y = 16$ <br/>\n",
    ">error = $f(4) - y = 21 - 16 = 5$\n",
    "\n",
    "However, there's a problem with this method. Let's say we have three points in our dataset, and their errors are $[-6, 2, 4]$. What if we wanted to ask, \"What's the total amount our line is off by?\" Presumably, we would add them up: $-6 + 2 + 4 = $ ... zero! According to this, the total amount our line is off is absolutely 0, even though our points were off by -6, 2, and 4! This makes absolutely no sense.\n",
    "\n",
    "To counteract this weird little quirk, then, we take the **squared error**. This is, quite literally, taking the error we just calculated and squaring it. We do this because now, whenever we encounter negative error, it will be multiplied by itself, forcing it to be positive. This means that when we add up our errors, it won't be able to sum to 0 anymore (cause there are no negative numbers). Let's try it:\n",
    "\n",
    ">Errors: $[-6, 2, 4]$ <br/>\n",
    ">Sum of errors: $-6 + 2 + 4 = 0$ <br/>\n",
    ">Squared errors: $[36, 4, 16]$ <br/>\n",
    ">Sum of squared errors: $36 + 4 + 16 = 56$\n",
    "\n",
    "Much better. If you notice, this also has the effect of emphasizing larger error values. This can be both a good thing and a bad thing. \n",
    "\n",
    "#### Putting it all together \n",
    "\n",
    "So we know that our line of best fit should minimize the distance between each point and that line, and we also know that the way to define \"distance\" is by using squared error. So what we're really looking to do is **minimize the squared error.** How do we do that? Well, minimization is a concept you'll hear quite a lot about in calculus, but it's simply beyond the scope of this workshop. Following linear regression, however, I've included another component to this tutorial that not only gives us a way to do this with essentially zero calculus, it also builds on this idea of minimizing error to introduce some of the concepts that lay the foundation for many data science techniques used today. \n",
    "\n",
    "In summary, if you take anything away from this workshop, let it be that **the idea of linear regression is simply minimizing error to make our line of best fit as accurate as possible**. There are a number of ways you can define error beyond our squared error, but the concept remains the same.\n",
    "\n",
    "## How do we know how accurate it is?\n",
    "\n",
    "By using another fun formula!\n",
    "\n",
    "### Correlation Coefficient\n",
    "\n",
    "$$ r = \\frac{n(\\sum xy) - (\\sum x\\sum y)}{\\sqrt{[n\\sum x^2 - (\\sum x)^2][n\\sum y^2 -(\\sum y)^2]}} $$\n",
    "\n",
    "Brutal, I know, but bear with me. This is called the **correlation coefficient**. This value, referred to as _r_, is a measure of the strength of the relationship between two variables. Your _r_ value will range between -1 and 1.\n",
    "\n",
    "Interpreting the _r_ value can be a bit tricky. I find it makes it much easier to separate the sign from the value. So, the absolute value of _r_ (just the number, forget about the +/- sign) will represent the _strength_ of the relationship. The closer this value is to 1, the stronger the relationship - the variables are very closely related. The closer this value is to 0, the weaker the relationship - the variables have almost nothing to do with each other.\n",
    "\n",
    "Now we can bring in the sign of the value (positive or negative). If the sign is positive, that means that there is a _positive correlation_. We can think about a positive correlation as, \"as x increases, y also tends to increase.\" The opposite is true for when the sign is negative, or there is a _negative correlation_. In this case, as x increases, y tends to _decrease_. \n",
    "\n",
    "Take, once again, time studied versus course grade. Pretend we've done a study and gathered data on students. Assume that our _r_ value is $0.76$. We see that the value is 0.76, which is quite strong, and that the sign is positive. This means that as time studied increases, grades also tend to increase quite closely. \n",
    "\n",
    "Now, let's compare absences to course grade. In our fake study, we've found that the _r_ value is -0.41. The value is 0.41, which indicates that the values are fairly closely related. Our sign is negative, which means that as absences increase, grades tend to _decrease_. \n",
    "\n",
    "### Coefficient of Determination\n",
    "\n",
    "We can also look at a value we label as _r<sup>2</sup>_, called the coefficient of determination. What this value represents is how well our regression's line of best fit predicts our actual _y_ values. \n",
    "\n",
    "_r<sup>2</sup>_ is the easiest thing we've calculated so far. It's literally _r_... squared! Remember that _r_ can be between $[-1, 1]$, so when we square this, our _r<sup>2</sup>_ value must be between $[0, 1]$. This is because when we square a negative number, it will become positive. \n",
    "\n",
    "_r<sup>2</sup>_ is simply a measure of the predictive ability of our model.\n",
    "\n",
    "## Can we get to programming already?\n",
    "\n",
    "Sounds good to me."
   ]
  },
  {
   "cell_type": "markdown",
   "metadata": {},
   "source": [
    "<hr/>\n",
    "## Programming Linear Regression\n",
    "\n",
    "Let's import all of our usual packages."
   ]
  },
  {
   "cell_type": "code",
   "execution_count": 144,
   "metadata": {
    "collapsed": true
   },
   "outputs": [],
   "source": [
    "library(\"ggplot2\")"
   ]
  },
  {
   "cell_type": "markdown",
   "metadata": {},
   "source": [
    "For this tutorial, I've prepared some NBA data to use. Apologies if you're not a sports fan; sports are just useful for data analysis cause of how much data they have available (as well as being pretty straightforward to understand). \n",
    "\n",
    "Let's read in our data and take a look. \n",
    "\n",
    "**Legend** <hr/>\n",
    "**Team** - Self-explanetory <br/>\n",
    "**GP** - Games played <br/>\n",
    "**Win_pct** - Percentage of games won <br/>\n",
    "**PD** - Point differnetial (Points scored - points allowed) <br/>\n",
    "**PF** - Points for (points scored) <br/>\n",
    "**PA** - Points allowed"
   ]
  },
  {
   "cell_type": "code",
   "execution_count": 7,
   "metadata": {},
   "outputs": [
    {
     "data": {
      "text/html": [
       "<table>\n",
       "<thead><tr><th scope=col>TEAM</th><th scope=col>GP</th><th scope=col>Win_pct</th><th scope=col>PD</th><th scope=col>PF</th><th scope=col>PA</th></tr></thead>\n",
       "<tbody>\n",
       "\t<tr><td>Golden State</td><td>9           </td><td>0.667       </td><td> 8.3        </td><td>120.0       </td><td>111.7       </td></tr>\n",
       "\t<tr><td>Brooklyn    </td><td>9           </td><td>0.333       </td><td>-5.0        </td><td>114.3       </td><td>119.3       </td></tr>\n",
       "\t<tr><td>Washington  </td><td>8           </td><td>0.500       </td><td> 2.6        </td><td>113.5       </td><td>110.9       </td></tr>\n",
       "\t<tr><td>Indiana     </td><td>9           </td><td>0.556       </td><td> 2.1        </td><td>111.3       </td><td>109.2       </td></tr>\n",
       "\t<tr><td>Orlando     </td><td>9           </td><td>0.667       </td><td> 4.7        </td><td>111.3       </td><td>106.6       </td></tr>\n",
       "\t<tr><td>Toronto     </td><td>8           </td><td>0.625       </td><td> 7.0        </td><td>109.3       </td><td>102.3       </td></tr>\n",
       "</tbody>\n",
       "</table>\n"
      ],
      "text/latex": [
       "\\begin{tabular}{r|llllll}\n",
       " TEAM & GP & Win\\_pct & PD & PF & PA\\\\\n",
       "\\hline\n",
       "\t Golden State & 9            & 0.667        &  8.3         & 120.0        & 111.7       \\\\\n",
       "\t Brooklyn     & 9            & 0.333        & -5.0         & 114.3        & 119.3       \\\\\n",
       "\t Washington   & 8            & 0.500        &  2.6         & 113.5        & 110.9       \\\\\n",
       "\t Indiana      & 9            & 0.556        &  2.1         & 111.3        & 109.2       \\\\\n",
       "\t Orlando      & 9            & 0.667        &  4.7         & 111.3        & 106.6       \\\\\n",
       "\t Toronto      & 8            & 0.625        &  7.0         & 109.3        & 102.3       \\\\\n",
       "\\end{tabular}\n"
      ],
      "text/markdown": [
       "\n",
       "TEAM | GP | Win_pct | PD | PF | PA | \n",
       "|---|---|---|---|---|---|\n",
       "| Golden State | 9            | 0.667        |  8.3         | 120.0        | 111.7        | \n",
       "| Brooklyn     | 9            | 0.333        | -5.0         | 114.3        | 119.3        | \n",
       "| Washington   | 8            | 0.500        |  2.6         | 113.5        | 110.9        | \n",
       "| Indiana      | 9            | 0.556        |  2.1         | 111.3        | 109.2        | \n",
       "| Orlando      | 9            | 0.667        |  4.7         | 111.3        | 106.6        | \n",
       "| Toronto      | 8            | 0.625        |  7.0         | 109.3        | 102.3        | \n",
       "\n",
       "\n"
      ],
      "text/plain": [
       "  TEAM         GP Win_pct PD   PF    PA   \n",
       "1 Golden State 9  0.667    8.3 120.0 111.7\n",
       "2 Brooklyn     9  0.333   -5.0 114.3 119.3\n",
       "3 Washington   8  0.500    2.6 113.5 110.9\n",
       "4 Indiana      9  0.556    2.1 111.3 109.2\n",
       "5 Orlando      9  0.667    4.7 111.3 106.6\n",
       "6 Toronto      8  0.625    7.0 109.3 102.3"
      ]
     },
     "metadata": {},
     "output_type": "display_data"
    }
   ],
   "source": [
    "NBAData <- read.csv(\"basketballdata.csv\")\n",
    "head(NBAData)"
   ]
  },
  {
   "cell_type": "markdown",
   "metadata": {},
   "source": [
    "Now that we've loaded our data, let's try to visualize it to look for some relationships. With sports, at the end of the day, we're usually trying to predict win percentage. It's a good question to ask; what makes teams win?\n",
    "\n",
    "Let's look for the Win_pct row, and scan across it for any linear-looking plots."
   ]
  },
  {
   "cell_type": "code",
   "execution_count": 3,
   "metadata": {},
   "outputs": [
    {
     "data": {
      "image/png": "[encoded data removed]",
      "text/plain": [
       "plot without title"
      ]
     },
     "metadata": {},
     "output_type": "display_data"
    }
   ],
   "source": [
    "pairs(NBAData)"
   ]
  },
  {
   "cell_type": "markdown",
   "metadata": {},
   "source": [
    "As we can see here, it seems that point differential looks to have a pretty linear relationship with win percentage. So, we should be able to use point differential to predict win percentage - and we do that with a linear regression! \n",
    "\n",
    "Let's narrow our data to just what we care about; differential, and win percentage. We're also going to do something extremely important: **split our data into training and testing copies.** It is extremely important that you do this, to prevent something called **overfitting.**\n",
    "\n",
    "When you study for a test, do you memorize how to do the specific questions from the textbook, or do you learn the concepts and how to solve any kind of problem in that concept? I'd hope the latter, because the former is an example of overfitting. You're overfitting your \"model\" (your brain) to only be able to \"predict\" (answer) the specific questions, rather than truly learning the \"data\" (concept). We'll take the first half of the elements from data to train our model."
   ]
  },
  {
   "cell_type": "code",
   "execution_count": 101,
   "metadata": {},
   "outputs": [
    {
     "data": {
      "text/html": [
       "<table>\n",
       "<thead><tr><th scope=col>TEAM</th><th scope=col>PD</th><th scope=col>Win_pct</th></tr></thead>\n",
       "<tbody>\n",
       "\t<tr><td>Golden State</td><td> 8.3        </td><td>0.667       </td></tr>\n",
       "\t<tr><td>Brooklyn    </td><td>-5.0        </td><td>0.333       </td></tr>\n",
       "\t<tr><td>Washington  </td><td> 2.6        </td><td>0.500       </td></tr>\n",
       "\t<tr><td>Indiana     </td><td> 2.1        </td><td>0.556       </td></tr>\n",
       "\t<tr><td>Orlando     </td><td> 4.7        </td><td>0.667       </td></tr>\n",
       "\t<tr><td>Toronto     </td><td> 7.0        </td><td>0.625       </td></tr>\n",
       "</tbody>\n",
       "</table>\n"
      ],
      "text/latex": [
       "\\begin{tabular}{r|lll}\n",
       " TEAM & PD & Win\\_pct\\\\\n",
       "\\hline\n",
       "\t Golden State &  8.3         & 0.667       \\\\\n",
       "\t Brooklyn     & -5.0         & 0.333       \\\\\n",
       "\t Washington   &  2.6         & 0.500       \\\\\n",
       "\t Indiana      &  2.1         & 0.556       \\\\\n",
       "\t Orlando      &  4.7         & 0.667       \\\\\n",
       "\t Toronto      &  7.0         & 0.625       \\\\\n",
       "\\end{tabular}\n"
      ],
      "text/markdown": [
       "\n",
       "TEAM | PD | Win_pct | \n",
       "|---|---|---|---|---|---|\n",
       "| Golden State |  8.3         | 0.667        | \n",
       "| Brooklyn     | -5.0         | 0.333        | \n",
       "| Washington   |  2.6         | 0.500        | \n",
       "| Indiana      |  2.1         | 0.556        | \n",
       "| Orlando      |  4.7         | 0.667        | \n",
       "| Toronto      |  7.0         | 0.625        | \n",
       "\n",
       "\n"
      ],
      "text/plain": [
       "  TEAM         PD   Win_pct\n",
       "1 Golden State  8.3 0.667  \n",
       "2 Brooklyn     -5.0 0.333  \n",
       "3 Washington    2.6 0.500  \n",
       "4 Indiana       2.1 0.556  \n",
       "5 Orlando       4.7 0.667  \n",
       "6 Toronto       7.0 0.625  "
      ]
     },
     "metadata": {},
     "output_type": "display_data"
    }
   ],
   "source": [
    "data <- data.frame('TEAM'=NBAData$TEAM, 'PD'=NBAData$PD, 'Win_pct'=NBAData$Win_pct)[1:15,]\n",
    "head(data)"
   ]
  },
  {
   "cell_type": "markdown",
   "metadata": {},
   "source": [
    "Note that the following is technically unnecessary, but I find it helpful when doing linear regression by hand.\n",
    "\n",
    "Going back to our original equation, we have 6 terms that we'll be using. I like to create a table of them for reference."
   ]
  },
  {
   "cell_type": "code",
   "execution_count": 103,
   "metadata": {},
   "outputs": [
    {
     "data": {
      "text/html": [
       "<table>\n",
       "<thead><tr><th scope=col>X</th><th scope=col>Y</th><th scope=col>XY</th><th scope=col>X.Squared</th><th scope=col>Y.Squared</th><th scope=col>N</th></tr></thead>\n",
       "<tbody>\n",
       "\t<tr><td>17.1    </td><td>8.275   </td><td>16.1349 </td><td>463.97  </td><td>4.747665</td><td>15      </td></tr>\n",
       "</tbody>\n",
       "</table>\n"
      ],
      "text/latex": [
       "\\begin{tabular}{r|llllll}\n",
       " X & Y & XY & X.Squared & Y.Squared & N\\\\\n",
       "\\hline\n",
       "\t 17.1     & 8.275    & 16.1349  & 463.97   & 4.747665 & 15      \\\\\n",
       "\\end{tabular}\n"
      ],
      "text/markdown": [
       "\n",
       "X | Y | XY | X.Squared | Y.Squared | N | \n",
       "|---|\n",
       "| 17.1     | 8.275    | 16.1349  | 463.97   | 4.747665 | 15       | \n",
       "\n",
       "\n"
      ],
      "text/plain": [
       "  X    Y     XY      X.Squared Y.Squared N \n",
       "1 17.1 8.275 16.1349 463.97    4.747665  15"
      ]
     },
     "metadata": {},
     "output_type": "display_data"
    }
   ],
   "source": [
    "x <- sum(data$PD)\n",
    "y <- sum(data$Win_pct)\n",
    "\n",
    "xy <- sum(data$PD * data$Win_pct)\n",
    "\n",
    "xSquared <- sum(data$PD ^ 2)\n",
    "ySquared <- sum(data$Win_pct ^ 2)\n",
    "\n",
    "n <- nrow(data)\n",
    "\n",
    "values <- data.frame('X'=x, 'Y'=y, 'XY'=xy, 'X.Squared'=xSquared, 'Y.Squared'=ySquared, 'N'=n)\n",
    "values"
   ]
  },
  {
   "cell_type": "markdown",
   "metadata": {},
   "source": [
    "And with that, let's jump right in. We'll calculate our terms, and plug them into the formula. We'll go back to  y=mx+by=mx+b  form as we're likely all more familiar with it."
   ]
  },
  {
   "cell_type": "code",
   "execution_count": 110,
   "metadata": {},
   "outputs": [],
   "source": [
    "linearRegression <- function(x,y){\n",
    "    # Let's define all the variables we need in our slope formula.\n",
    "    # Sigma (sum) for X, Y, XY, X^2, Y^2, as well as n (the length of our data)\n",
    "    \n",
    "    xSum <- sum(x)\n",
    "    ySum <- sum(y)\n",
    "    xySum <- sum(x * y)\n",
    "    x2Sum <- sum(x^2)\n",
    "    y2Sum <- sum(y^2)\n",
    "    n <- nrow(x)\n",
    "    \n",
    "    # Calculate the slope of our line y = mx+b\n",
    "    m <- (n*xySum - xSum*ySum) / (n*x2Sum - xSum^2)\n",
    "    \n",
    "    # Calculating the average of X and Y for calculating B\n",
    "    \n",
    "    xAvg <- colMeans(x)\n",
    "    yAvg <- colMeans(y)\n",
    "    \n",
    "    # Calculate the intercept of our line y=mx+b\n",
    "    b <- yAvg - m*xAvg\n",
    "    \n",
    "    # Use our existing values to compute R, which in turn gives us R ^ 2\n",
    "    r <- (n*xySum - xSum*ySum) / sqrt((n*x2Sum - xSum^2)*(n*y2Sum - ySum^2))\n",
    "    r2 <- r^2\n",
    "    \n",
    "    # Generate a dataframe of the predicted points\n",
    "    points <- data.frame('m'=m, 'b'=b, 'r'=r, 'r.Squared'=r2, row.names='Values')\n",
    "    \n",
    "    # Return the predicted points\n",
    "    return(points)\n",
    "}\n",
    "\n",
    "x <- data['PD']\n",
    "y <- data['Win_pct']\n",
    "\n",
    "points <- linearRegression(x, y)"
   ]
  },
  {
   "cell_type": "markdown",
   "metadata": {},
   "source": [
    "Excellent! We now have our line of best fit. We see that our _r_ and _r<sup>2</sup>_ values show that the relationship between point differential is quite strong for our testing data. Now, let's make some predictions on our testing data to make sure that our model can perform well with new data."
   ]
  },
  {
   "cell_type": "code",
   "execution_count": 161,
   "metadata": {},
   "outputs": [
    {
     "name": "stderr",
     "output_type": "stream",
     "text": [
      "Don't know how to automatically pick scale for object of type data.frame. Defaulting to continuous.\n"
     ]
    },
    {
     "data": {},
     "metadata": {},
     "output_type": "display_data"
    },
    {
     "data": {
      "image/png": "[encoded data removed]",
      "text/plain": [
       "plot without title"
      ]
     },
     "metadata": {},
     "output_type": "display_data"
    }
   ],
   "source": [
    "test <- tail(data.frame('TEAM'=NBAData$TEAM, 'PD'=NBAData$PD, 'Win_pct'=NBAData$Win_pct), 15)\n",
    "predictions <- data.frame('Predictions'=points$m * test$PD + points$b)\n",
    "test$Predictions <- predictions\n",
    "\n",
    "ggplot() + geom_point(data=test, aes(Win_pct, Predictions), size=2.5)"
   ]
  },
  {
   "cell_type": "markdown",
   "metadata": {},
   "source": [
    "Awesome! It looks like our model did a really good job of capturing the relationship between our variables, and was able to prevent overfitting.\n",
    "\n",
    "## Conclusions - kind of\n",
    "\n",
    "That is, at it's heart, linear regression. You're attempting to create a line of best fit with **as little error as possible** between your x and y values. There's a _lot_ of work involved, though, and it's not very scalable; how often are you going to have one variable so neatly predict another? And how often are you going to use that to make interesting insights?\n",
    "\n",
    "While you now know linear regression, there's another, very similar concept that some of you may find useful. If you'd like to simply stick to linear regression and call it a day, I don't blame you, and you can exit out here. \n",
    "\n",
    "However, if you're interested, keep reading to learn about a method very similar to linear regression that lays the foundation for many modern data science techniques. This method is **Gradient Descent.** If you're interested in learning more about this, stay tuned for an upcoming workshop!"
   ]
  }
 ],
 "metadata": {
  "kernelspec": {
   "display_name": "R",
   "language": "R",
   "name": "ir"
  },
  "language_info": {
   "codemirror_mode": "r",
   "file_extension": ".r",
   "mimetype": "text/x-r-source",
   "name": "R",
   "pygments_lexer": "r",
   "version": "3.5.1"
  }
 },
 "nbformat": 4,
 "nbformat_minor": 2
}
