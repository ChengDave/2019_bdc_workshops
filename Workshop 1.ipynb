{
 "cells": [
  {
   "cell_type": "markdown",
   "metadata": {},
   "source": [
    "### Workshop 1\n",
    "Welcome to the workshops! Every week we'll cover a new datascience topic to help familiarize your team for the competition. This year, our workshops will take on a different approach. You will be presented with a sample of a typical analysis. This should help reduce confusion and provide a clear path for your team.\n",
    "\n",
    "Each of the phases of this sample analysis will be presented by a single Jupyter notebook. One for each workshop. "
   ]
  },
  {
   "cell_type": "markdown",
   "metadata": {},
   "source": [
    "### Data Manipulation Basics\n",
    "\n",
    "DataFrames are optimized 2D arrays. They streamline operations for you! Let's take a look at some."
   ]
  },
  {
   "cell_type": "markdown",
   "metadata": {},
   "source": [
    "### Mathematical Functions\n",
    "\n",
    "If you want to find the difference "
   ]
  }
 ],
 "metadata": {
  "kernelspec": {
   "display_name": "Python 3",
   "language": "python",
   "name": "python3"
  },
  "language_info": {
   "codemirror_mode": {
    "name": "ipython",
    "version": 3
   },
   "file_extension": ".py",
   "mimetype": "text/x-python",
   "name": "python",
   "nbconvert_exporter": "python",
   "pygments_lexer": "ipython3",
   "version": "3.6.5"
  }
 },
 "nbformat": 4,
 "nbformat_minor": 2
}
