{
 "cells": [
  {
   "cell_type": "markdown",
   "metadata": {},
   "source": [
    "# Workshop 1 - Data Handling\n",
    "\n",
    "## Introductions\n",
    "\n",
    "Performing any in-depth analysis is challenging. So over the years our team has introduced different teaching styles to smoothen the learning curve. This series of notebooks will help guide your team through the fundamentals of data science and will show you a prime example of a winning analysis. We highly encourage everyone to read through the examples and complete the workshops.\n",
    "\n",
    "This year, we are going with a Wikipedia-style tutorial series where our tutorials for the week will be split into two different notebooks; one for the example analysis, and another for the workshops. Throughout the example, hyperlinks will connect the two workshops and will allow you to jump from notebook to notebook. These hyperlinks serve just like the ones on Wikipedia, they help round your knowledge if you come accross an unfamiliar concept in the examples. We found that students learnt best by supporting new concepts explained in the workshops with an actual example in an analysis.\n",
    "\n",
    "Nonetheless, go through the material in whatever order you like! Don't feel scared to complete the workshops first then view the examples. Remember to ask for help on Slack if we didn't do a good enough job at explaining!\n",
    "\n",
    "Best wishes,<br>\n",
    "The STEM Fellowship Data Science Team\n",
    "\n",
    "## Data Handling Basics\n",
    "There are three concepts that will be covered in this workshop:<br>\n",
    "1. Data Storage\n",
    "2. Data Indexing (Viewing certain indexes)<br>\n",
    "3. Data Filtering (Selecting data based on arithmetic rules)<br>\n",
    "4. Data Manipulation"
   ]
  },
  {
   "cell_type": "code",
   "execution_count": null,
   "metadata": {},
   "outputs": [],
   "source": [
    "import pandas as pd"
   ]
  },
  {
   "cell_type": "markdown",
   "metadata": {},
   "source": [
    "## Data Storage\n"
   ]
  },
  {
   "cell_type": "markdown",
   "metadata": {},
   "source": [
    "## Data Indexing"
   ]
  },
  {
   "cell_type": "markdown",
   "metadata": {},
   "source": [
    "## Data Filtering"
   ]
  },
  {
   "cell_type": "markdown",
   "metadata": {},
   "source": [
    "## Data Manipulation"
   ]
  }
 ],
 "metadata": {
  "kernelspec": {
   "display_name": "Python 3",
   "language": "python",
   "name": "python3"
  },
  "language_info": {
   "codemirror_mode": {
    "name": "ipython",
    "version": 3
   },
   "file_extension": ".py",
   "mimetype": "text/x-python",
   "name": "python",
   "nbconvert_exporter": "python",
   "pygments_lexer": "ipython3",
   "version": "3.6.5"
  }
 },
 "nbformat": 4,
 "nbformat_minor": 2
}
